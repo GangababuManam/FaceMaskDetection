{
 "cells": [
  {
   "cell_type": "code",
   "execution_count": null,
   "metadata": {},
   "outputs": [],
   "source": [
    "import os\n",
    "import cv2\n",
    "from imutils.face_utils import FaceAligner\n",
    "from imutils.face_utils import rect_to_bb\n",
    "import imutils\n",
    "import os\n",
    "import dlib\n",
    "from tensorflow.keras.applications.mobilenet_v2 import preprocess_input\n",
    "from tensorflow.keras.preprocessing.image import img_to_array\n",
    "from tensorflow.keras.models import load_model\n",
    "import numpy as np\n",
    "import cv2\n",
    "mask_model = load_model(\"mask_detector.model\")\n",
    "\n",
    "shape_predictor_path=\"shape_predictor_68_face_landmarks.dat\"\n",
    "predictor = dlib.shape_predictor(shape_predictor_path)\n",
    "fa = FaceAligner(predictor, desiredFaceWidth=224)"
   ]
  },
  {
   "cell_type": "code",
   "execution_count": 2,
   "metadata": {},
   "outputs": [],
   "source": [
    "prototxtPath = os.path.sep.join(['face_detector', \"deploy.prototxt\"])\n",
    "weightsPath = os.path.sep.join(['face_detector',\"res10_300x300_ssd_iter_140000.caffemodel\"])\n",
    "net = cv2.dnn.readNetFromCaffe(prototxtPath, weightsPath)\n",
    "def face_detect_and_aligned(image):\n",
    "    # show the original input image and detect faces in the grayscale\n",
    "    # image\n",
    "    img=image\n",
    "#     img = cv2.imread(img)\n",
    "    gray = cv2.cvtColor(img, cv2.COLOR_BGR2GRAY)\n",
    "   \n",
    "    h, w = img.shape[:2]\n",
    "    blob = cv2.dnn.blobFromImage(cv2.resize(img, (300, 300)), 1.0,\n",
    "    (300, 300), (104.0, 117.0, 123.0))\n",
    "    net.setInput(blob)\n",
    "    face_detection = net.forward()\n",
    "    bbox=[]\n",
    "    faces=[]\n",
    "    prediction=[]\n",
    "    #to draw faces on image\n",
    "    for i in range(face_detection.shape[2]):\n",
    "        confidence = face_detection[0, 0, i, 2]\n",
    "        if confidence > 0.8:\n",
    "            box = face_detection[0, 0, i, 3:7] * np.array([w, h, w, h])\n",
    "            (x, y, x1, y1) = box.astype(\"int\")\n",
    "            (X,Y,X1,Y1) = (max(0, x), max(0, y),min(w-1, x1), min(h-1, y1))\n",
    "            rect = dlib.rectangle(x,y,x1,y1)\n",
    "            faceAligned = fa.align(img, gray, rect)\n",
    "            cv2.imwrite('facealigned'+str(i)+'.jpg',faceAligned)\n",
    "            face = cv2.cvtColor(faceAligned, cv2.COLOR_BGR2RGB)\n",
    "            cv2.imwrite('face_resized'+str(i)+'.jpg',face)\n",
    "#             face = img_to_array(face)\n",
    "            face = preprocess_input(face)\n",
    "            faces.append(face) \n",
    "            bbox.append((x,y,x1,y1))\n",
    "        if len(faces)>0:\n",
    "            faces = np.array(faces, dtype=\"float32\")\n",
    "            prediction = mask_model.predict(faces, batch_size=32)\n",
    "        return (bbox, prediction)"
   ]
  },
  {
   "cell_type": "code",
   "execution_count": 24,
   "metadata": {},
   "outputs": [],
   "source": [
    "# (location, prediction)=face_detect_and_aligned('DSC_2201~2.JPG')"
   ]
  },
  {
   "cell_type": "code",
   "execution_count": 9,
   "metadata": {},
   "outputs": [],
   "source": [
    "cap = cv2.VideoCapture(0)\n",
    "fourcc = cv2.VideoWriter_fourcc(*'XVID')\n",
    "out = cv2.VideoWriter('Mask_detect_20201226_test.avi',fourcc, 30,(640,480))\n",
    "while True:\n",
    "    _, frame = cap.read()\n",
    "    h,w = frame.shape[:2]\n",
    "    frame =cv2.resize(frame,(640,480),fx=0.0,fy=0.0, interpolation = cv2.INTER_CUBIC)\n",
    "    (location, prediction) = face_detect_and_aligned(frame)\n",
    "        \n",
    "    for (box, pred) in zip(location, prediction):\n",
    "        (X,Y,X1,Y1) = box\n",
    "        (mask, withoutMask) = pred\n",
    "                    \n",
    "        label = \"Mask\" if mask > 0.875 else \"No Mask\"\n",
    "        color = (0, 255, 0) if label == \"Mask\" else (0, 0, 255)\n",
    "        label = \"{}: {:.2f}%\".format(label, max(mask, withoutMask) * 100)\n",
    "            \n",
    "#      To define the distance from camera, change the constant value 150 in the following if condition..\n",
    "#think camera as person and I have used less distance you can increase more\n",
    "        if X1-X>(150):\n",
    "            # Check if prediction for without mask is 75% and above\n",
    "            if withoutMask>0.8:\n",
    "                cv2.putText(frame,'Alert !!! social Distancing!!!!',(X-50, Y - 50),cv2.FONT_HERSHEY_SIMPLEX,1.2,(0,0,255),3)\n",
    "        cv2.putText(frame, label, (X, Y - 10),cv2.FONT_HERSHEY_SIMPLEX, 1, color, 3)\n",
    "        cv2.rectangle(frame, (X, Y), (X1, Y1), color, 2)\n",
    "    cv2.imwrite('test_mask_detection_'+str(label)+'.png',frame)\n",
    "#     out.write(frame)\n",
    "    cv2.imshow(\"frame\", frame)\n",
    "    key = cv2.waitKey(1) & 0xFF\n",
    "    # if the `q` key was pressed, break from the loop\n",
    "    if key == ord(\"q\"):\n",
    "        break\n",
    "#close poped up window\n",
    "cv2.destroyAllWindows()\n",
    "cap.release()\n",
    "out.release()\n"
   ]
  },
  {
   "cell_type": "code",
   "execution_count": null,
   "metadata": {},
   "outputs": [],
   "source": []
  }
 ],
 "metadata": {
  "kernelspec": {
   "display_name": "Python 3",
   "language": "python",
   "name": "python3"
  },
  "language_info": {
   "codemirror_mode": {
    "name": "ipython",
    "version": 3
   },
   "file_extension": ".py",
   "mimetype": "text/x-python",
   "name": "python",
   "nbconvert_exporter": "python",
   "pygments_lexer": "ipython3",
   "version": "3.7.7"
  }
 },
 "nbformat": 4,
 "nbformat_minor": 4
}
